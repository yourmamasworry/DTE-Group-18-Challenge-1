{
 "cells": [
  {
   "cell_type": "markdown",
   "metadata": {},
   "source": [
    "<span style=\"font-family: Arial; font-weight:bold;font-size:1.5em;color:#0e92ea\">1.1  Importing librarries and packages\n"
   ]
  },
  {
   "cell_type": "code",
   "execution_count": 2,
   "metadata": {},
   "outputs": [],
   "source": [
    "import numpy as np\n",
    "import pandas as pd\n",
    "import matplotlib.pyplot as plt\n",
    "import seaborn as sns\n",
    "sns.set_style('darkgrid')"
   ]
  },
  {
   "cell_type": "markdown",
   "metadata": {},
   "source": [
    "<span style=\"font-family: Arial; font-weight:bold;font-size:1.5em;color:#0e92ea\">1.2 Importing the data set.\n",
    "Source: https://statistics.knbs.or.ke/nada/index.php/catalog/124/get-microdata"
   ]
  },
  {
   "cell_type": "code",
   "execution_count": 3,
   "metadata": {},
   "outputs": [
    {
     "name": "stdout",
     "output_type": "stream",
     "text": [
      "Requirement already satisfied: openpyxl in c:\\users\\user pc\\appdata\\local\\programs\\python\\python311\\lib\\site-packages (3.1.2)Note: you may need to restart the kernel to use updated packages.\n"
     ]
    },
    {
     "name": "stderr",
     "output_type": "stream",
     "text": [
      "\n",
      "[notice] A new release of pip is available: 23.1.2 -> 23.2.1\n",
      "[notice] To update, run: python.exe -m pip install --upgrade pip\n"
     ]
    },
    {
     "name": "stdout",
     "output_type": "stream",
     "text": [
      "\n",
      "Requirement already satisfied: et-xmlfile in c:\\users\\user pc\\appdata\\local\\programs\\python\\python311\\lib\\site-packages (from openpyxl) (1.1.0)\n"
     ]
    }
   ],
   "source": [
    "pip install openpyxl\n"
   ]
  },
  {
   "cell_type": "code",
   "execution_count": 4,
   "metadata": {},
   "outputs": [],
   "source": [
    "Df=pd.read_excel(r\"C:\\Users\\user pc\\Desktop\\DTE Datathon\\Updated datasset.xlsx\")"
   ]
  },
  {
   "cell_type": "markdown",
   "metadata": {},
   "source": [
    "###### <span style=\"font-family: Arial; font-weight:bold;font-size:1.5em;color:#0e92ea\">The orginal dataset had a lot of datapoints, most of which were not useful. The quickest and simplest approach was to simply pick the data columns required and fit them into a new excel sheet. The new excel sheet \"Updated dataset\" is a subset of the original dataset, \"Urban-population-households-density-by-county.xlsx\".   The original dataset is referenced above and will be added to the final document submission."
   ]
  },
  {
   "cell_type": "code",
   "execution_count": 5,
   "metadata": {},
   "outputs": [
    {
     "name": "stdout",
     "output_type": "stream",
     "text": [
      "            County Category                                  Education metrics\n",
      "0      Trans Nzoia    Rural  Completed technical training after secondary s...\n",
      "1            Busia    Rural  Completed technical training after secondary s...\n",
      "2         Machakos    Rural                                    \"Some primary \"\n",
      "3           Kisumu    Rural                                \"Primary completed\"\n",
      "4            Nyeri    Urban                                \"Primary completed\"\n",
      "...            ...      ...                                                ...\n",
      "22019       Nakuru    Rural                             \"Secondary completed \"\n",
      "22020        Bomet    Rural                                \"Primary completed\"\n",
      "22021      Makueni    Rural                             \"Secondary completed \"\n",
      "22022        Bomet    Rural                                   \"Some secondary\"\n",
      "22023      Mandera    Rural                                    \"Some primary \"\n",
      "\n",
      "[22024 rows x 3 columns]\n"
     ]
    }
   ],
   "source": [
    "print(Df)"
   ]
  },
  {
   "cell_type": "code",
   "execution_count": 6,
   "metadata": {},
   "outputs": [
    {
     "data": {
      "text/html": [
       "<div>\n",
       "<style scoped>\n",
       "    .dataframe tbody tr th:only-of-type {\n",
       "        vertical-align: middle;\n",
       "    }\n",
       "\n",
       "    .dataframe tbody tr th {\n",
       "        vertical-align: top;\n",
       "    }\n",
       "\n",
       "    .dataframe thead th {\n",
       "        text-align: right;\n",
       "    }\n",
       "</style>\n",
       "<table border=\"1\" class=\"dataframe\">\n",
       "  <thead>\n",
       "    <tr style=\"text-align: right;\">\n",
       "      <th></th>\n",
       "      <th>Total</th>\n",
       "      <th>Percent</th>\n",
       "    </tr>\n",
       "  </thead>\n",
       "  <tbody>\n",
       "    <tr>\n",
       "      <th>County</th>\n",
       "      <td>0</td>\n",
       "      <td>0.0</td>\n",
       "    </tr>\n",
       "    <tr>\n",
       "      <th>Category</th>\n",
       "      <td>0</td>\n",
       "      <td>0.0</td>\n",
       "    </tr>\n",
       "    <tr>\n",
       "      <th>Education metrics</th>\n",
       "      <td>0</td>\n",
       "      <td>0.0</td>\n",
       "    </tr>\n",
       "  </tbody>\n",
       "</table>\n",
       "</div>"
      ],
      "text/plain": [
       "                   Total  Percent\n",
       "County                 0      0.0\n",
       "Category               0      0.0\n",
       "Education metrics      0      0.0"
      ]
     },
     "execution_count": 6,
     "metadata": {},
     "output_type": "execute_result"
    }
   ],
   "source": [
    "## checking for and dropping any missing values\n",
    "\n",
    "def missing_check(df):\n",
    "    total = df.isnull().sum().sort_values(ascending=False)   # total number of null values\n",
    "    percent = (df.isnull().sum()/df.isnull().count()).sort_values(ascending=False)  # percentage of values that are null\n",
    "    missing_data = pd.concat([total, percent], axis=1, keys=['Total', 'Percent'])  # putting the above two together\n",
    "    return missing_data # return the dataframe\n",
    "missing_check(Df)"
   ]
  },
  {
   "cell_type": "code",
   "execution_count": 7,
   "metadata": {},
   "outputs": [
    {
     "name": "stdout",
     "output_type": "stream",
     "text": [
      "['Completed technical training after secondary school' '\"Some primary \"'\n",
      " '\"Primary completed\"' '\"Secondary completed \"' '\"None \"'\n",
      " 'Some technical training after secondary school' '\"Some secondary\"'\n",
      " 'Some university' '\"University completed \"' '\"Other (Specify) \"'\n",
      " '\"Don\\'t know (DO NOT READ OUT)\"' '\"Refused to Answer (DO NOT READ OUT)\"']\n"
     ]
    }
   ],
   "source": [
    "## checking for all the categoristaions under Education metrics.\n",
    "\n",
    "# Getting the  unique categories\n",
    "unique_categories = Df['Education metrics'].unique()\n",
    "print(unique_categories)"
   ]
  },
  {
   "cell_type": "code",
   "execution_count": 8,
   "metadata": {},
   "outputs": [],
   "source": [
    "## To determine the number of literate and illetrate persons based on the premise that a literate person has successfully completed secondary education\n",
    "\n",
    "# Values to exclude from 'Education Metrics'\n",
    "exclude_values = ['\"Refused to Answer (DO NOT READ OUT)\"', '\"Don\\'t know (DO NOT READ OUT)\"', '\"Other (Specify) \"' , '\"Some secondary\"' , '\"Some primary \"']\n",
    "\n",
    "# Condition to filter out rows with the specified values in 'Education Metrics'\n",
    "condition = ~Df['Education metrics'].isin(exclude_values)\n",
    "\n",
    "# Filter the DataFrame to select 'rural' entries that meet the condition\n",
    "rural_filtered = Df[(Df['Category'] == 'Rural') & condition]\n",
    "\n",
    "# Count the number of 'rural' entries that meet the condition\n",
    "count_rural_entries_literate = rural_filtered.shape[0]\n",
    "\n",
    "# Filter the DataFrame to select 'urban' entries that meet the condition\n",
    "\n",
    "urban_filtered = Df[(Df['Category'] == 'Urban') & condition]\n",
    "\n",
    "# Count the number of 'urban' entries that meet the condition\n",
    "\n",
    "count_urban_entries_literate = urban_filtered.shape[0]\n",
    "\n",
    "\n",
    "\n",
    "\n"
   ]
  },
  {
   "cell_type": "markdown",
   "metadata": {},
   "source": [
    "#### To determine literacy rates accross rural and urban areas, we use the above dataset as a sample. As per monte carlo simulation measures, the result obtained should be very close to the actual value. By counting the total counts of educated persons in the dataset who live in rural or urban areas we can compute a percentage for literacy rates."
   ]
  },
  {
   "cell_type": "code",
   "execution_count": 9,
   "metadata": {},
   "outputs": [
    {
     "name": "stdout",
     "output_type": "stream",
     "text": [
      "9032\n",
      "5611\n"
     ]
    }
   ],
   "source": [
    "print(count_rural_entries_literate)\n",
    "\n",
    "print(count_urban_entries_literate)\n"
   ]
  },
  {
   "cell_type": "code",
   "execution_count": 10,
   "metadata": {},
   "outputs": [
    {
     "name": "stdout",
     "output_type": "stream",
     "text": [
      "14455\n"
     ]
    }
   ],
   "source": [
    "## To determine the rural population.\n",
    "\n",
    "count_rural_entries = Df[\"Category\"].value_counts().get('Rural', 0)\n",
    "print(count_rural_entries)"
   ]
  },
  {
   "cell_type": "code",
   "execution_count": 11,
   "metadata": {},
   "outputs": [
    {
     "name": "stdout",
     "output_type": "stream",
     "text": [
      "7569\n"
     ]
    }
   ],
   "source": [
    "### Determining the urban population\n",
    "\n",
    "count_urban_entries = Df[\"Category\"].value_counts().get('Urban', 0)\n",
    "print(count_urban_entries)\n"
   ]
  },
  {
   "cell_type": "markdown",
   "metadata": {},
   "source": [
    "###### <span style=\"font-family: Arial; font-weight:bold;font-size:1.5em;color:#0e92ea\">  Now we can compute what percent of the rural population and urban population are literate\n"
   ]
  },
  {
   "cell_type": "code",
   "execution_count": 12,
   "metadata": {},
   "outputs": [
    {
     "name": "stdout",
     "output_type": "stream",
     "text": [
      "The literacy rate in rural areas is 62.48%\n",
      "The literacy rate in urban areas is 74.13%\n"
     ]
    }
   ],
   "source": [
    "literacy_rate_urban= (count_urban_entries_literate/count_urban_entries)* 100\n",
    "percentage_literacy_rate_urban = f\"{literacy_rate_urban:.2f}%\"  # correct to 2 dp\n",
    "literacy_rate_rural= (count_rural_entries_literate/count_rural_entries)*100\n",
    "percentage_literacy_rate_rural = f\"{literacy_rate_rural:.2f}%\"  # correct to 2 dp\n",
    "\n",
    "print(\"The literacy rate in rural areas is \" + str(percentage_literacy_rate_rural))\n",
    "print(\"The literacy rate in urban areas is \" + str(percentage_literacy_rate_urban))"
   ]
  },
  {
   "cell_type": "code",
   "execution_count": 13,
   "metadata": {},
   "outputs": [],
   "source": [
    "# Defining the specific values to drop. Some observations made during data collection have no direct or inferred relevance to our exploration.\n",
    "value_drop = ['\"Refused to Answer (DO NOT READ OUT)\"', '\"Don\\'t know (DO NOT READ OUT)\"', '\"Other (Specify) \"' , '\"Some secondary\"' , '\"Some primary \"']\n",
    "\n",
    "# we drop \"some secondary\" because to be considered literate in the most basic form, you need to have successfully completed secondary education but not necessarily enrolled into tertiary education.\n",
    "\n",
    "# Create a boolean mask to identify rows with values to drop\n",
    "mask = Df['Education metrics'].isin(value_drop)\n",
    "\n",
    "# Use the mask to drop rows with the specified values\n",
    "Df = Df[~mask]\n"
   ]
  },
  {
   "cell_type": "code",
   "execution_count": 14,
   "metadata": {},
   "outputs": [
    {
     "name": "stdout",
     "output_type": "stream",
     "text": [
      "            County Category                                  Education metrics\n",
      "0      Trans Nzoia    Rural  Completed technical training after secondary s...\n",
      "1            Busia    Rural  Completed technical training after secondary s...\n",
      "3           Kisumu    Rural                                \"Primary completed\"\n",
      "4            Nyeri    Urban                                \"Primary completed\"\n",
      "5         Murang'a    Urban                             \"Secondary completed \"\n",
      "...            ...      ...                                                ...\n",
      "22016      Mombasa    Urban                            \"University completed \"\n",
      "22018  Uasin Gishu    Urban                            \"University completed \"\n",
      "22019       Nakuru    Rural                             \"Secondary completed \"\n",
      "22020        Bomet    Rural                                \"Primary completed\"\n",
      "22021      Makueni    Rural                             \"Secondary completed \"\n",
      "\n",
      "[14643 rows x 3 columns]\n"
     ]
    }
   ],
   "source": [
    "print(Df)"
   ]
  },
  {
   "cell_type": "code",
   "execution_count": 15,
   "metadata": {},
   "outputs": [
    {
     "data": {
      "text/html": [
       "<div>\n",
       "<style scoped>\n",
       "    .dataframe tbody tr th:only-of-type {\n",
       "        vertical-align: middle;\n",
       "    }\n",
       "\n",
       "    .dataframe tbody tr th {\n",
       "        vertical-align: top;\n",
       "    }\n",
       "\n",
       "    .dataframe thead th {\n",
       "        text-align: right;\n",
       "    }\n",
       "</style>\n",
       "<table border=\"1\" class=\"dataframe\">\n",
       "  <thead>\n",
       "    <tr style=\"text-align: right;\">\n",
       "      <th></th>\n",
       "      <th>County</th>\n",
       "      <th>Category</th>\n",
       "      <th>Education metrics</th>\n",
       "    </tr>\n",
       "  </thead>\n",
       "  <tbody>\n",
       "    <tr>\n",
       "      <th>count</th>\n",
       "      <td>14643</td>\n",
       "      <td>14643</td>\n",
       "      <td>14643</td>\n",
       "    </tr>\n",
       "    <tr>\n",
       "      <th>unique</th>\n",
       "      <td>47</td>\n",
       "      <td>2</td>\n",
       "      <td>7</td>\n",
       "    </tr>\n",
       "    <tr>\n",
       "      <th>top</th>\n",
       "      <td>Nakuru</td>\n",
       "      <td>Rural</td>\n",
       "      <td>\"Primary completed\"</td>\n",
       "    </tr>\n",
       "    <tr>\n",
       "      <th>freq</th>\n",
       "      <td>549</td>\n",
       "      <td>9032</td>\n",
       "      <td>4207</td>\n",
       "    </tr>\n",
       "  </tbody>\n",
       "</table>\n",
       "</div>"
      ],
      "text/plain": [
       "        County Category    Education metrics\n",
       "count    14643    14643                14643\n",
       "unique      47        2                    7\n",
       "top     Nakuru    Rural  \"Primary completed\"\n",
       "freq       549     9032                 4207"
      ]
     },
     "execution_count": 15,
     "metadata": {},
     "output_type": "execute_result"
    }
   ],
   "source": [
    "Df.describe()"
   ]
  },
  {
   "cell_type": "code",
   "execution_count": 16,
   "metadata": {},
   "outputs": [],
   "source": [
    "### allocating categorical variables some numerical identifiers, 0 for rural and 1 for urban\n",
    "\n",
    "# applyiing a category mapping.\n",
    "\n",
    "# Define a mapping from categories to 1 and 0\n",
    "category_mapping = {'Rural': 0, 'Urban': 1}\n",
    "\n",
    "# Create a new column based on the mapping\n",
    "Df['Urban vs Rural'] = Df['Category'].map(category_mapping)"
   ]
  },
  {
   "cell_type": "code",
   "execution_count": 38,
   "metadata": {},
   "outputs": [
    {
     "name": "stdout",
     "output_type": "stream",
     "text": [
      "            County Category  \\\n",
      "0      Trans Nzoia    Rural   \n",
      "1            Busia    Rural   \n",
      "3           Kisumu    Rural   \n",
      "4            Nyeri    Urban   \n",
      "5         Murang'a    Urban   \n",
      "...            ...      ...   \n",
      "22016      Mombasa    Urban   \n",
      "22018  Uasin Gishu    Urban   \n",
      "22019       Nakuru    Rural   \n",
      "22020        Bomet    Rural   \n",
      "22021      Makueni    Rural   \n",
      "\n",
      "                                       Education metrics  Urban vs Rural  \n",
      "0      Completed technical training after secondary s...               0  \n",
      "1      Completed technical training after secondary s...               0  \n",
      "3                                    \"Primary completed\"               0  \n",
      "4                                    \"Primary completed\"               1  \n",
      "5                                 \"Secondary completed \"               1  \n",
      "...                                                  ...             ...  \n",
      "22016                            \"University completed \"               1  \n",
      "22018                            \"University completed \"               1  \n",
      "22019                             \"Secondary completed \"               0  \n",
      "22020                                \"Primary completed\"               0  \n",
      "22021                             \"Secondary completed \"               0  \n",
      "\n",
      "[14643 rows x 4 columns]\n"
     ]
    }
   ],
   "source": [
    "print(Df)"
   ]
  },
  {
   "cell_type": "markdown",
   "metadata": {},
   "source": [
    "###### <span style=\"font-family: Arial; font-weight:bold;font-size:1.5em;color:#0e92ea\"> Pie chart to show the difference in literacy rates in urban and rural areas.\n"
   ]
  },
  {
   "cell_type": "code",
   "execution_count": 17,
   "metadata": {},
   "outputs": [
    {
     "data": {
      "image/png": "[encoded data removed]",
      "text/plain": [
       "<Figure size 800x800 with 1 Axes>"
      ]
     },
     "metadata": {},
     "output_type": "display_data"
    }
   ],
   "source": [
    "#fitting the figures on literacy in an array\n",
    "sizes=[count_rural_entries_literate,count_urban_entries_literate]\n",
    "colors = ['red', 'blue']\n",
    "# Create a pie chart\n",
    "plt.figure(figsize=(8, 8))  # Set the figure size (optional)\n",
    "plt.pie(sizes, labels=[\"Rural\",\"Urban\"], autopct='%1.1f%%', startangle=140,colors=colors)  # autopct adds percentage labels\n",
    "\n",
    "# Add a title\n",
    "plt.title('A comparison between literacy rates in urban and rural areas')\n",
    "plt.legend([\"Rural literacy rate\",\"Urban literacy rate\"], loc=\"best\") \n",
    "\n",
    "# Show the plot\n",
    "plt.show()"
   ]
  },
  {
   "cell_type": "markdown",
   "metadata": {},
   "source": [
    "#### From the above analysis we conclude that literacy rates are way higher in urban areas than rural areas.\n",
    "##### What are some of the fcators affecting access to education? According to https://nehemia-team.org/en/kenya-en/school-fees-and-poverty-barriers-to-education-in-kenya/#:~:text=There%20is%20also%20a%2027,school%20fees%20or%20insufficient%20facilities, There is a 27% primary school dropout rate related to poverty issues. "
   ]
  },
  {
   "cell_type": "markdown",
   "metadata": {},
   "source": []
  },
  {
   "cell_type": "code",
   "execution_count": 18,
   "metadata": {},
   "outputs": [],
   "source": [
    "## exporting the dataset to a csv format\n",
    "Df.to_csv(\"Education and literacy.csv\",index=False)"
   ]
  },
  {
   "cell_type": "code",
   "execution_count": null,
   "metadata": {},
   "outputs": [],
   "source": []
  }
 ],
 "metadata": {
  "kernelspec": {
   "display_name": "Python 3",
   "language": "python",
   "name": "python3"
  },
  "language_info": {
   "codemirror_mode": {
    "name": "ipython",
    "version": 3
   },
   "file_extension": ".py",
   "mimetype": "text/x-python",
   "name": "python",
   "nbconvert_exporter": "python",
   "pygments_lexer": "ipython3",
   "version": "3.11.3"
  },
  "orig_nbformat": 4
 },
 "nbformat": 4,
 "nbformat_minor": 2
}
